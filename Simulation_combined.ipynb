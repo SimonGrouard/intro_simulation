{
 "cells": [
  {
   "cell_type": "code",
   "execution_count": 1,
   "metadata": {},
   "outputs": [],
   "source": [
    "from random import sample\n",
    "from datetime import date, datetime\n",
    "from pydbgen import pydbgen\n",
    "import pandas as pd\n",
    "import numpy as np \n",
    "import random\n",
    "import pandas as pd\n",
    "import matplotlib.pyplot as plt"
   ]
  },
  {
   "cell_type": "code",
   "execution_count": 2,
   "metadata": {},
   "outputs": [],
   "source": [
    "np.random.seed(1)\n",
    "random.seed(1)"
   ]
  },
  {
   "cell_type": "markdown",
   "metadata": {},
   "source": [
    "# Age"
   ]
  },
  {
   "cell_type": "code",
   "execution_count": 3,
   "metadata": {},
   "outputs": [],
   "source": [
    "age = np.round(np.random.normal(40, 10, 250))\n",
    "simulations_df = pd.DataFrame(age, columns = ['Age'])"
   ]
  },
  {
   "cell_type": "code",
   "execution_count": 4,
   "metadata": {
    "scrolled": true
   },
   "outputs": [
    {
     "data": {
      "text/plain": [
       "(array([ 4.,  7., 26., 33., 53., 49., 41., 18., 13.,  6.]),\n",
       " array([16. , 20.9, 25.8, 30.7, 35.6, 40.5, 45.4, 50.3, 55.2, 60.1, 65. ]),\n",
       " <BarContainer object of 10 artists>)"
      ]
     },
     "execution_count": 4,
     "metadata": {},
     "output_type": "execute_result"
    },
    {
     "data": {
      "image/png": "[encoded data removed]",
      "text/plain": [
       "<Figure size 432x288 with 1 Axes>"
      ]
     },
     "metadata": {
      "needs_background": "light"
     },
     "output_type": "display_data"
    }
   ],
   "source": [
    "plt.hist(simulations_df['Age'])"
   ]
  },
  {
   "cell_type": "markdown",
   "metadata": {},
   "source": [
    "# Name and Gender"
   ]
  },
  {
   "cell_type": "code",
   "execution_count": 5,
   "metadata": {},
   "outputs": [],
   "source": [
    "first_names_gender = (pd.read_csv('data/name_gender_dataset.csv'))[['Name', 'Gender']]\n",
    "first_names_gender = first_names_gender.sample(n = 250, random_state=1) # randomly sample\n",
    "first_names_gender = first_names_gender.rename(columns = {'Name' : 'First_Name'})\n",
    "\n",
    "first_names_gender.reset_index(drop=True, inplace=True)"
   ]
  },
  {
   "cell_type": "code",
   "execution_count": 6,
   "metadata": {},
   "outputs": [],
   "source": [
    "last_names = (pd.read_csv('data/most-common-name_surnames.csv'))['name']\n",
    "last_names = last_names.sample(250, random_state=1)\n",
    "last_names = last_names.apply(func = lambda elem : elem[0] + elem[1:].lower()) # put everything in lower case\n",
    "                                                                               # except the first letter \n",
    "last_names.reset_index(drop=True, inplace=True)\n",
    "\n",
    "simulations_df = pd.concat([simulations_df, last_names, first_names_gender], axis = 1)\n",
    "simulations_df = simulations_df.rename(columns = {'name' : 'Last_Name'})"
   ]
  },
  {
   "cell_type": "markdown",
   "metadata": {},
   "source": [
    "# Weight, Height and BMI"
   ]
  },
  {
   "cell_type": "code",
   "execution_count": 7,
   "metadata": {},
   "outputs": [],
   "source": [
    "# Create height, weight and bmi variables\n",
    "\n",
    "weight_height = pd.read_csv('data/weight-height.csv')\n",
    "weight_height['Height'] = weight_height['Height']/100\n",
    "\n",
    "# Some heights are too high or too low, remove them:\n",
    "weight_height = weight_height.loc[(weight_height[\"Height\"] < 2) & (weight_height[\"Height\"]> 1.4)]\n",
    "\n",
    "# Create bmi\n",
    "weight_height['BMI'] = (weight_height['Weight']/(weight_height['Height'])**2)\n",
    "\n",
    "weight_height[\"Height\"] = weight_height[\"Height\"].apply(lambda a : round(a, 2))\n",
    "weight_height[\"BMI\"] = weight_height[\"BMI\"].apply(lambda a : round(a, 1))"
   ]
  },
  {
   "cell_type": "code",
   "execution_count": 8,
   "metadata": {},
   "outputs": [],
   "source": [
    "# Concatenate with simulations_df in accordance with Gender\n",
    "\n",
    "n_female = len(simulations_df.loc[simulations_df[\"Gender\"] == \"F\"])\n",
    "n_male = len(simulations_df.loc[simulations_df[\"Gender\"] == \"M\"])\n",
    "\n",
    "simulations_df[\"BMI\"] = np.nan\n",
    "simulations_df[\"Height\"] = np.nan\n",
    "\n",
    "male_bmi_height = weight_height.loc[weight_height[\"Gender\"] == \"Male\"]\n",
    "male_height = iter(male_bmi_height.sample(n_male, random_state = 1)[\"Height\"])\n",
    "male_bmi = iter(male_bmi_height.sample(n_male, random_state = 1)[\"BMI\"])\n",
    "\n",
    "female_bmi_height = weight_height.loc[weight_height[\"Gender\"] == \"Female\"]\n",
    "female_height = iter(female_bmi_height.sample(n_female, random_state = 1)[\"Height\"])\n",
    "female_bmi = iter(female_bmi_height.sample(n_female, random_state = 1)[\"BMI\"])\n",
    "\n",
    "for index, gender in enumerate(simulations_df[\"Gender\"]):\n",
    "    if gender == \"M\":\n",
    "        simulations_df.loc[index, \"BMI\"] = next(male_bmi)\n",
    "        simulations_df.loc[index, \"Height\"] = next(male_height)\n",
    "    else:\n",
    "        simulations_df.loc[index, \"BMI\"] = next(female_bmi)\n",
    "        simulations_df.loc[index, \"Height\"] = next(female_height)"
   ]
  },
  {
   "cell_type": "code",
   "execution_count": 9,
   "metadata": {
    "scrolled": true
   },
   "outputs": [
    {
     "data": {
      "text/plain": [
       "(array([15., 30., 30., 21., 26., 33., 27., 30., 27., 11.]),\n",
       " array([17.3 , 18.94, 20.58, 22.22, 23.86, 25.5 , 27.14, 28.78, 30.42,\n",
       "        32.06, 33.7 ]),\n",
       " <BarContainer object of 10 artists>)"
      ]
     },
     "execution_count": 9,
     "metadata": {},
     "output_type": "execute_result"
    },
    {
     "data": {
      "image/png": "[encoded data removed]",
      "text/plain": [
       "<Figure size 432x288 with 1 Axes>"
      ]
     },
     "metadata": {
      "needs_background": "light"
     },
     "output_type": "display_data"
    }
   ],
   "source": [
    "plt.hist(simulations_df['BMI'])"
   ]
  },
  {
   "cell_type": "code",
   "execution_count": 10,
   "metadata": {},
   "outputs": [
    {
     "data": {
      "text/plain": [
       "(array([36., 37., 35., 27., 23., 20., 20., 23., 15., 14.]),\n",
       " array([1.4 , 1.46, 1.52, 1.58, 1.64, 1.7 , 1.76, 1.82, 1.88, 1.94, 2.  ]),\n",
       " <BarContainer object of 10 artists>)"
      ]
     },
     "execution_count": 10,
     "metadata": {},
     "output_type": "execute_result"
    },
    {
     "data": {
      "image/png": "[encoded data removed]",
      "text/plain": [
       "<Figure size 432x288 with 1 Axes>"
      ]
     },
     "metadata": {
      "needs_background": "light"
     },
     "output_type": "display_data"
    }
   ],
   "source": [
    "plt.hist(simulations_df['Height'])"
   ]
  },
  {
   "cell_type": "markdown",
   "metadata": {},
   "source": [
    "# Case-Control Status"
   ]
  },
  {
   "cell_type": "code",
   "execution_count": 11,
   "metadata": {},
   "outputs": [],
   "source": [
    "case_control = ['case', 'control']\n",
    "case_control_df = random.choices(case_control, k = 250)\n",
    "case_control_df = pd.DataFrame(case_control_df, columns = ['case_control_status'])"
   ]
  },
  {
   "cell_type": "markdown",
   "metadata": {},
   "source": [
    "# Education Level"
   ]
  },
  {
   "cell_type": "code",
   "execution_count": 12,
   "metadata": {},
   "outputs": [],
   "source": [
    "education_level = ['primary', 'high school', 'bachelor', 'master', 'phD']\n",
    "education_df = np.random.choice(education_level, 250, p = [0.35, 0.3, 0.2, 0.1, 0.05])\n",
    "education_df = pd.DataFrame(education_df, columns = ['education_level'])"
   ]
  },
  {
   "cell_type": "code",
   "execution_count": 13,
   "metadata": {},
   "outputs": [
    {
     "data": {
      "text/plain": [
       "Text(0.5, 1.0, 'Distribution of education levels')"
      ]
     },
     "execution_count": 13,
     "metadata": {},
     "output_type": "execute_result"
    },
    {
     "data": {
      "image/png": "[encoded data removed]",
      "text/plain": [
       "<Figure size 432x288 with 1 Axes>"
      ]
     },
     "metadata": {
      "needs_background": "light"
     },
     "output_type": "display_data"
    }
   ],
   "source": [
    "plt.hist(education_df)\n",
    "plt.title(\"Distribution of education levels\")"
   ]
  },
  {
   "cell_type": "markdown",
   "metadata": {},
   "source": [
    "# Sample ID"
   ]
  },
  {
   "cell_type": "code",
   "execution_count": 14,
   "metadata": {},
   "outputs": [],
   "source": [
    "sample_id = ['A' + str(f\"{i:03}\") for i in range(1,251)]\n",
    "sample_id = pd.DataFrame(sample_id, columns = ['sample_id'])"
   ]
  },
  {
   "cell_type": "markdown",
   "metadata": {},
   "source": [
    "# SNP Values"
   ]
  },
  {
   "cell_type": "code",
   "execution_count": 15,
   "metadata": {},
   "outputs": [],
   "source": [
    "snp_df = np.random.randint(0, 3, (250, 5)) # [0, 3) integer\n",
    "snp_df = pd.DataFrame(snp_df)\n",
    "snp_df.columns = [\"snp1\", \"snp2\", \"snp3\", \"snp4\", \"snp5\"]"
   ]
  },
  {
   "cell_type": "markdown",
   "metadata": {},
   "source": [
    "# Gene Expression Values"
   ]
  },
  {
   "cell_type": "code",
   "execution_count": 16,
   "metadata": {},
   "outputs": [],
   "source": [
    "gene_df = np.random.uniform(-1, 1, (250, 10))\n",
    "gene_df = pd.DataFrame(gene_df)\n",
    "gene_df.columns = [\"gene1\", \"gene2\", \"gene3\", \"gene4\", \"gene5\", \n",
    "                  \"gene6\", \"gene7\", \"gene8\", \"gene9\", \"gene10\", ]"
   ]
  },
  {
   "cell_type": "markdown",
   "metadata": {},
   "source": [
    "# Country and City"
   ]
  },
  {
   "cell_type": "code",
   "execution_count": 17,
   "metadata": {},
   "outputs": [],
   "source": [
    "country_city = pd.read_csv('data/worldcities.csv')\n",
    "country_city_df = country_city[['city', 'country']]\n",
    "country_city_df = country_city_df.sample(250, random_state = 1)\n",
    "\n",
    "country_city_df.reset_index(drop=True, inplace=True)"
   ]
  },
  {
   "cell_type": "markdown",
   "metadata": {},
   "source": [
    "# Combine all last variables and put them in order"
   ]
  },
  {
   "cell_type": "code",
   "execution_count": 18,
   "metadata": {},
   "outputs": [],
   "source": [
    "simulations_df = pd.concat([simulations_df, case_control_df, education_df, sample_id, snp_df, gene_df, country_city_df], axis = 1)"
   ]
  },
  {
   "cell_type": "code",
   "execution_count": 19,
   "metadata": {},
   "outputs": [],
   "source": [
    "columns_order = [\"sample_id\", \"First_Name\", \"Last_Name\", \"Age\", \"Gender\", \"BMI\", \"Height\", \"country\", \"city\", \"case_control_status\", \"education_level\", \"gene1\", \"gene2\", \"gene3\", \"gene4\", \"gene5\", \"gene6\", \"gene7\", \"gene8\", \"gene9\", \"gene10\", \"snp1\", \"snp2\", \"snp3\", \"snp4\", \"snp5\"]\n",
    "\n",
    "simulations_df = simulations_df[columns_order]"
   ]
  },
  {
   "cell_type": "code",
   "execution_count": 20,
   "metadata": {},
   "outputs": [
    {
     "data": {
      "text/html": [
       "<div>\n",
       "<style scoped>\n",
       "    .dataframe tbody tr th:only-of-type {\n",
       "        vertical-align: middle;\n",
       "    }\n",
       "\n",
       "    .dataframe tbody tr th {\n",
       "        vertical-align: top;\n",
       "    }\n",
       "\n",
       "    .dataframe thead th {\n",
       "        text-align: right;\n",
       "    }\n",
       "</style>\n",
       "<table border=\"1\" class=\"dataframe\">\n",
       "  <thead>\n",
       "    <tr style=\"text-align: right;\">\n",
       "      <th></th>\n",
       "      <th>sample_id</th>\n",
       "      <th>First_Name</th>\n",
       "      <th>Last_Name</th>\n",
       "      <th>Age</th>\n",
       "      <th>Gender</th>\n",
       "      <th>BMI</th>\n",
       "      <th>Height</th>\n",
       "      <th>country</th>\n",
       "      <th>city</th>\n",
       "      <th>case_control_status</th>\n",
       "      <th>...</th>\n",
       "      <th>gene6</th>\n",
       "      <th>gene7</th>\n",
       "      <th>gene8</th>\n",
       "      <th>gene9</th>\n",
       "      <th>gene10</th>\n",
       "      <th>snp1</th>\n",
       "      <th>snp2</th>\n",
       "      <th>snp3</th>\n",
       "      <th>snp4</th>\n",
       "      <th>snp5</th>\n",
       "    </tr>\n",
       "  </thead>\n",
       "  <tbody>\n",
       "    <tr>\n",
       "      <th>0</th>\n",
       "      <td>A001</td>\n",
       "      <td>Semideo</td>\n",
       "      <td>Aguirre</td>\n",
       "      <td>56.0</td>\n",
       "      <td>M</td>\n",
       "      <td>31.5</td>\n",
       "      <td>1.40</td>\n",
       "      <td>United States</td>\n",
       "      <td>Schuyler Falls</td>\n",
       "      <td>case</td>\n",
       "      <td>...</td>\n",
       "      <td>0.620586</td>\n",
       "      <td>0.868318</td>\n",
       "      <td>0.000074</td>\n",
       "      <td>-0.413991</td>\n",
       "      <td>0.811471</td>\n",
       "      <td>2</td>\n",
       "      <td>1</td>\n",
       "      <td>0</td>\n",
       "      <td>2</td>\n",
       "      <td>1</td>\n",
       "    </tr>\n",
       "    <tr>\n",
       "      <th>1</th>\n",
       "      <td>A002</td>\n",
       "      <td>Sheri</td>\n",
       "      <td>Mcmahon</td>\n",
       "      <td>34.0</td>\n",
       "      <td>F</td>\n",
       "      <td>26.0</td>\n",
       "      <td>1.62</td>\n",
       "      <td>Chile</td>\n",
       "      <td>Punta Arenas</td>\n",
       "      <td>control</td>\n",
       "      <td>...</td>\n",
       "      <td>-0.632641</td>\n",
       "      <td>0.168100</td>\n",
       "      <td>-0.096128</td>\n",
       "      <td>0.874404</td>\n",
       "      <td>-0.156334</td>\n",
       "      <td>0</td>\n",
       "      <td>2</td>\n",
       "      <td>2</td>\n",
       "      <td>2</td>\n",
       "      <td>0</td>\n",
       "    </tr>\n",
       "    <tr>\n",
       "      <th>2</th>\n",
       "      <td>A003</td>\n",
       "      <td>Necati</td>\n",
       "      <td>Parsons</td>\n",
       "      <td>35.0</td>\n",
       "      <td>M</td>\n",
       "      <td>25.1</td>\n",
       "      <td>1.61</td>\n",
       "      <td>France</td>\n",
       "      <td>Saint-Raphaël</td>\n",
       "      <td>control</td>\n",
       "      <td>...</td>\n",
       "      <td>-0.201313</td>\n",
       "      <td>0.816762</td>\n",
       "      <td>-0.809215</td>\n",
       "      <td>0.091488</td>\n",
       "      <td>-0.101348</td>\n",
       "      <td>1</td>\n",
       "      <td>1</td>\n",
       "      <td>1</td>\n",
       "      <td>1</td>\n",
       "      <td>2</td>\n",
       "    </tr>\n",
       "    <tr>\n",
       "      <th>3</th>\n",
       "      <td>A004</td>\n",
       "      <td>Monyka</td>\n",
       "      <td>Griffith</td>\n",
       "      <td>29.0</td>\n",
       "      <td>F</td>\n",
       "      <td>24.1</td>\n",
       "      <td>1.68</td>\n",
       "      <td>Brazil</td>\n",
       "      <td>Guimarânia</td>\n",
       "      <td>case</td>\n",
       "      <td>...</td>\n",
       "      <td>-0.282730</td>\n",
       "      <td>0.120301</td>\n",
       "      <td>0.956848</td>\n",
       "      <td>-0.062068</td>\n",
       "      <td>-0.733189</td>\n",
       "      <td>2</td>\n",
       "      <td>2</td>\n",
       "      <td>1</td>\n",
       "      <td>1</td>\n",
       "      <td>2</td>\n",
       "    </tr>\n",
       "    <tr>\n",
       "      <th>4</th>\n",
       "      <td>A005</td>\n",
       "      <td>Rainer-Francis</td>\n",
       "      <td>Gilbert</td>\n",
       "      <td>49.0</td>\n",
       "      <td>M</td>\n",
       "      <td>19.2</td>\n",
       "      <td>1.87</td>\n",
       "      <td>Malta</td>\n",
       "      <td>Mosta</td>\n",
       "      <td>case</td>\n",
       "      <td>...</td>\n",
       "      <td>0.720499</td>\n",
       "      <td>-0.015530</td>\n",
       "      <td>-0.036930</td>\n",
       "      <td>-0.596633</td>\n",
       "      <td>0.285721</td>\n",
       "      <td>1</td>\n",
       "      <td>1</td>\n",
       "      <td>2</td>\n",
       "      <td>2</td>\n",
       "      <td>0</td>\n",
       "    </tr>\n",
       "    <tr>\n",
       "      <th>...</th>\n",
       "      <td>...</td>\n",
       "      <td>...</td>\n",
       "      <td>...</td>\n",
       "      <td>...</td>\n",
       "      <td>...</td>\n",
       "      <td>...</td>\n",
       "      <td>...</td>\n",
       "      <td>...</td>\n",
       "      <td>...</td>\n",
       "      <td>...</td>\n",
       "      <td>...</td>\n",
       "      <td>...</td>\n",
       "      <td>...</td>\n",
       "      <td>...</td>\n",
       "      <td>...</td>\n",
       "      <td>...</td>\n",
       "      <td>...</td>\n",
       "      <td>...</td>\n",
       "      <td>...</td>\n",
       "      <td>...</td>\n",
       "      <td>...</td>\n",
       "    </tr>\n",
       "    <tr>\n",
       "      <th>245</th>\n",
       "      <td>A246</td>\n",
       "      <td>Sabrinia</td>\n",
       "      <td>Quinn</td>\n",
       "      <td>47.0</td>\n",
       "      <td>F</td>\n",
       "      <td>23.8</td>\n",
       "      <td>1.68</td>\n",
       "      <td>Belarus</td>\n",
       "      <td>Babruysk</td>\n",
       "      <td>case</td>\n",
       "      <td>...</td>\n",
       "      <td>-0.601289</td>\n",
       "      <td>-0.821697</td>\n",
       "      <td>-0.039558</td>\n",
       "      <td>0.028593</td>\n",
       "      <td>-0.178867</td>\n",
       "      <td>0</td>\n",
       "      <td>2</td>\n",
       "      <td>2</td>\n",
       "      <td>1</td>\n",
       "      <td>0</td>\n",
       "    </tr>\n",
       "    <tr>\n",
       "      <th>246</th>\n",
       "      <td>A247</td>\n",
       "      <td>Zolah</td>\n",
       "      <td>Burch</td>\n",
       "      <td>46.0</td>\n",
       "      <td>F</td>\n",
       "      <td>32.1</td>\n",
       "      <td>1.42</td>\n",
       "      <td>Germany</td>\n",
       "      <td>Mittweida</td>\n",
       "      <td>control</td>\n",
       "      <td>...</td>\n",
       "      <td>-0.685567</td>\n",
       "      <td>-0.727905</td>\n",
       "      <td>-0.844440</td>\n",
       "      <td>-0.077899</td>\n",
       "      <td>-0.431079</td>\n",
       "      <td>2</td>\n",
       "      <td>2</td>\n",
       "      <td>1</td>\n",
       "      <td>2</td>\n",
       "      <td>2</td>\n",
       "    </tr>\n",
       "    <tr>\n",
       "      <th>247</th>\n",
       "      <td>A248</td>\n",
       "      <td>Falen</td>\n",
       "      <td>Tate</td>\n",
       "      <td>36.0</td>\n",
       "      <td>F</td>\n",
       "      <td>32.0</td>\n",
       "      <td>1.41</td>\n",
       "      <td>Uganda</td>\n",
       "      <td>Kumi</td>\n",
       "      <td>case</td>\n",
       "      <td>...</td>\n",
       "      <td>0.386496</td>\n",
       "      <td>0.327661</td>\n",
       "      <td>-0.845772</td>\n",
       "      <td>0.426164</td>\n",
       "      <td>0.767303</td>\n",
       "      <td>2</td>\n",
       "      <td>0</td>\n",
       "      <td>1</td>\n",
       "      <td>2</td>\n",
       "      <td>2</td>\n",
       "    </tr>\n",
       "    <tr>\n",
       "      <th>248</th>\n",
       "      <td>A249</td>\n",
       "      <td>Harroll</td>\n",
       "      <td>Olson</td>\n",
       "      <td>58.0</td>\n",
       "      <td>M</td>\n",
       "      <td>24.7</td>\n",
       "      <td>1.64</td>\n",
       "      <td>United Kingdom</td>\n",
       "      <td>Tipton</td>\n",
       "      <td>case</td>\n",
       "      <td>...</td>\n",
       "      <td>0.627283</td>\n",
       "      <td>-0.481163</td>\n",
       "      <td>0.619334</td>\n",
       "      <td>0.078724</td>\n",
       "      <td>-0.762134</td>\n",
       "      <td>2</td>\n",
       "      <td>2</td>\n",
       "      <td>1</td>\n",
       "      <td>0</td>\n",
       "      <td>0</td>\n",
       "    </tr>\n",
       "    <tr>\n",
       "      <th>249</th>\n",
       "      <td>A250</td>\n",
       "      <td>Khobi</td>\n",
       "      <td>Massey</td>\n",
       "      <td>27.0</td>\n",
       "      <td>M</td>\n",
       "      <td>21.9</td>\n",
       "      <td>1.78</td>\n",
       "      <td>United Kingdom</td>\n",
       "      <td>Southwell</td>\n",
       "      <td>case</td>\n",
       "      <td>...</td>\n",
       "      <td>0.168885</td>\n",
       "      <td>0.448782</td>\n",
       "      <td>-0.225572</td>\n",
       "      <td>-0.314024</td>\n",
       "      <td>-0.278387</td>\n",
       "      <td>1</td>\n",
       "      <td>0</td>\n",
       "      <td>0</td>\n",
       "      <td>1</td>\n",
       "      <td>2</td>\n",
       "    </tr>\n",
       "  </tbody>\n",
       "</table>\n",
       "<p>250 rows × 26 columns</p>\n",
       "</div>"
      ],
      "text/plain": [
       "    sample_id      First_Name Last_Name   Age Gender   BMI  Height  \\\n",
       "0        A001         Semideo   Aguirre  56.0      M  31.5    1.40   \n",
       "1        A002           Sheri   Mcmahon  34.0      F  26.0    1.62   \n",
       "2        A003          Necati   Parsons  35.0      M  25.1    1.61   \n",
       "3        A004          Monyka  Griffith  29.0      F  24.1    1.68   \n",
       "4        A005  Rainer-Francis   Gilbert  49.0      M  19.2    1.87   \n",
       "..        ...             ...       ...   ...    ...   ...     ...   \n",
       "245      A246        Sabrinia     Quinn  47.0      F  23.8    1.68   \n",
       "246      A247           Zolah     Burch  46.0      F  32.1    1.42   \n",
       "247      A248           Falen      Tate  36.0      F  32.0    1.41   \n",
       "248      A249         Harroll     Olson  58.0      M  24.7    1.64   \n",
       "249      A250           Khobi    Massey  27.0      M  21.9    1.78   \n",
       "\n",
       "            country            city case_control_status  ...     gene6  \\\n",
       "0     United States  Schuyler Falls                case  ...  0.620586   \n",
       "1             Chile    Punta Arenas             control  ... -0.632641   \n",
       "2            France   Saint-Raphaël             control  ... -0.201313   \n",
       "3            Brazil      Guimarânia                case  ... -0.282730   \n",
       "4             Malta           Mosta                case  ...  0.720499   \n",
       "..              ...             ...                 ...  ...       ...   \n",
       "245         Belarus        Babruysk                case  ... -0.601289   \n",
       "246         Germany       Mittweida             control  ... -0.685567   \n",
       "247          Uganda            Kumi                case  ...  0.386496   \n",
       "248  United Kingdom          Tipton                case  ...  0.627283   \n",
       "249  United Kingdom       Southwell                case  ...  0.168885   \n",
       "\n",
       "        gene7     gene8     gene9    gene10  snp1  snp2  snp3  snp4  snp5  \n",
       "0    0.868318  0.000074 -0.413991  0.811471     2     1     0     2     1  \n",
       "1    0.168100 -0.096128  0.874404 -0.156334     0     2     2     2     0  \n",
       "2    0.816762 -0.809215  0.091488 -0.101348     1     1     1     1     2  \n",
       "3    0.120301  0.956848 -0.062068 -0.733189     2     2     1     1     2  \n",
       "4   -0.015530 -0.036930 -0.596633  0.285721     1     1     2     2     0  \n",
       "..        ...       ...       ...       ...   ...   ...   ...   ...   ...  \n",
       "245 -0.821697 -0.039558  0.028593 -0.178867     0     2     2     1     0  \n",
       "246 -0.727905 -0.844440 -0.077899 -0.431079     2     2     1     2     2  \n",
       "247  0.327661 -0.845772  0.426164  0.767303     2     0     1     2     2  \n",
       "248 -0.481163  0.619334  0.078724 -0.762134     2     2     1     0     0  \n",
       "249  0.448782 -0.225572 -0.314024 -0.278387     1     0     0     1     2  \n",
       "\n",
       "[250 rows x 26 columns]"
      ]
     },
     "execution_count": 20,
     "metadata": {},
     "output_type": "execute_result"
    }
   ],
   "source": [
    "simulations_df"
   ]
  },
  {
   "cell_type": "code",
   "execution_count": 21,
   "metadata": {},
   "outputs": [],
   "source": [
    "simulations_df.to_csv(\"Data/Simulations_df.csv\")"
   ]
  }
 ],
 "metadata": {
  "kernelspec": {
   "display_name": "Python 3",
   "language": "python",
   "name": "python3"
  },
  "language_info": {
   "codemirror_mode": {
    "name": "ipython",
    "version": 3
   },
   "file_extension": ".py",
   "mimetype": "text/x-python",
   "name": "python",
   "nbconvert_exporter": "python",
   "pygments_lexer": "ipython3",
   "version": "3.8.8"
  }
 },
 "nbformat": 4,
 "nbformat_minor": 4
}
