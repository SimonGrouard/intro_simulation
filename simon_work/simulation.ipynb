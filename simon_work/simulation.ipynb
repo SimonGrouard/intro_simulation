{
 "cells": [
  {
   "cell_type": "code",
   "execution_count": 2,
   "id": "27ba6839",
   "metadata": {},
   "outputs": [],
   "source": [
    "import pandas as pd\n",
    "import numpy as np \n",
    "import random\n",
    "first_names = (pd.read_csv(\"babies-first-names-2010-2019.csv\")[[\"sex\",\"FirstForename\"]]).dropna(inplace=True)\n",
    "last_names = pd.read_csv(\"most-com-surnames-bmd-registers-20.csv\", header=16)[\"Surname\"].dropna(inplace=True)\n",
    "#first_names = first_names.sample(250, random_state=1)\n",
    "#last_names = last_names.sample(250, random_state=1)"
   ]
  },
  {
   "cell_type": "code",
   "execution_count": null,
   "id": "a97a7110",
   "metadata": {},
   "outputs": [],
   "source": []
  }
 ],
 "metadata": {
  "kernelspec": {
   "display_name": "Python 3",
   "language": "python",
   "name": "python3"
  },
  "language_info": {
   "codemirror_mode": {
    "name": "ipython",
    "version": 3
   },
   "file_extension": ".py",
   "mimetype": "text/x-python",
   "name": "python",
   "nbconvert_exporter": "python",
   "pygments_lexer": "ipython3",
   "version": "3.8.8"
  }
 },
 "nbformat": 4,
 "nbformat_minor": 5
}
